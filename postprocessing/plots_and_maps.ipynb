{
 "cells": [
  {
   "cell_type": "markdown",
   "metadata": {},
   "source": [
    "* prbrown 20201012 17:35"
   ]
  },
  {
   "cell_type": "code",
   "execution_count": null,
   "metadata": {
    "execution": {
     "iopub.execute_input": "2020-10-16T23:02:38.739318Z",
     "iopub.status.busy": "2020-10-16T23:02:38.733787Z",
     "iopub.status.idle": "2020-10-16T23:02:41.237679Z",
     "shell.execute_reply": "2020-10-16T23:02:41.236972Z",
     "shell.execute_reply.started": "2020-10-16T23:02:38.738005Z"
    }
   },
   "outputs": [],
   "source": [
    "import numpy as np\n",
    "import gdxpds\n",
    "import pandas as pd\n",
    "import matplotlib as mpl\n",
    "import matplotlib.pyplot as plt\n",
    "import os, sys, math, site\n",
    "from tqdm.notebook import tqdm, trange\n",
    "from glob import glob\n",
    "\n",
    "import geopandas as gpd\n",
    "import shapely\n",
    "os.environ['PROJ_NETWORK'] = 'OFF'\n",
    "\n",
    "reedspath = os.path.dirname(os.getcwd())\n",
    "remotepath = '/Volumes/ReEDS/' if sys.platform == 'darwin' else r'//nrelnas01/ReEDS/'\n",
    "\n",
    "### Format plots and load other convenience functions\n",
    "site.addsitedir(os.path.join(reedspath,'postprocessing'))\n",
    "import plots\n",
    "import reedsplots as rplots\n",
    "plots.plotparams()"
   ]
  },
  {
   "cell_type": "markdown",
   "metadata": {},
   "source": [
    "# Specify cases to compare"
   ]
  },
  {
   "cell_type": "code",
   "execution_count": null,
   "metadata": {
    "execution": {
     "iopub.execute_input": "2020-10-16T23:03:38.541324Z",
     "iopub.status.busy": "2020-10-16T23:03:38.541104Z",
     "iopub.status.idle": "2020-10-16T23:03:38.545343Z",
     "shell.execute_reply": "2020-10-16T23:03:38.544626Z",
     "shell.execute_reply.started": "2020-10-16T23:03:38.541301Z"
    }
   },
   "outputs": [],
   "source": [
    "runspath = os.path.join(remotepath,'Users/pbrown/ReEDSruns/20211005_transcost/')\n",
    "casebase = 'v20211112_transvintG0_Z35'\n",
    "casecomp = 'v20211112_transvintG0_Z35_VSCall'\n",
    "\n",
    "# runspath = os.path.join(reedspath,'runs',)\n",
    "# casebase = 'v20211112_transvintG0_Z35'\n",
    "# casecomp = 'v20211112_transvintG0_Z35_VSCall'"
   ]
  },
  {
   "cell_type": "markdown",
   "metadata": {},
   "source": [
    "# Plots from bokeh"
   ]
  },
  {
   "cell_type": "code",
   "execution_count": null,
   "metadata": {
    "execution": {
     "iopub.execute_input": "2020-10-16T23:03:39.027977Z",
     "iopub.status.busy": "2020-10-16T23:03:39.027744Z",
     "iopub.status.idle": "2020-10-16T23:03:50.484535Z",
     "shell.execute_reply": "2020-10-16T23:03:50.484059Z",
     "shell.execute_reply.started": "2020-10-16T23:03:39.027952Z"
    },
    "scrolled": false
   },
   "outputs": [],
   "source": [
    "plotvals = [\n",
    "    '3_Generation (TWh)',\n",
    "    '4_Capacity (GW)',\n",
    "    '5_New Annual Capacity (GW)',\n",
    "    '6_Annual Retirements (GW)',\n",
    "    '7_Final Gen by timeslice (GW)',\n",
    "    '11_Firm Capacity (GW)',\n",
    "    '12_Curtailment Rate',\n",
    "    '14_Transmission (GW-mi)',\n",
    "    '15_Bulk System Electricity Pric',\n",
    "    '18_National Average Electricity',\n",
    "    '24_2020-2050 Present Value of S',\n",
    "]\n",
    "for val in plotvals:\n",
    "    plt.close()\n",
    "    f,ax,leg,dfdiff = rplots.plotdiff(\n",
    "        val, casebase, casecomp, runspath, titleshorten=10)\n",
    "#     for col in range(3):\n",
    "#         ax[col].set_xlim(2009,2051)\n",
    "#     ax[2].set_ylim(-100,100)\n",
    "    plt.show()"
   ]
  },
  {
   "cell_type": "code",
   "execution_count": null,
   "metadata": {},
   "outputs": [],
   "source": [
    "onlytechs = ['wind-ons','wind-ofs','upv','dupv']\n",
    "for val in ['3_Generation (TWh)','4_Capacity (GW)',\n",
    "            # '5_New Annual Capacity (GW)','6_Annual Retirements (GW)',\n",
    "           ]:\n",
    "    f,ax,leg,dfdiff = rplots.plotdiff(\n",
    "        val, casebase, casecomp, runspath, titleshorten=10, onlytechs=onlytechs)\n",
    "    plt.show()"
   ]
  },
  {
   "cell_type": "markdown",
   "metadata": {},
   "source": [
    "# Transmission maps"
   ]
  },
  {
   "cell_type": "code",
   "execution_count": null,
   "metadata": {},
   "outputs": [],
   "source": [
    "### Get the BA map\n",
    "dfba = gpd.read_file(os.path.join(reedspath,'inputs','shapefiles','US_PCA')).set_index('rb')\n",
    "endpoints = (\n",
    "    gpd.read_file(os.path.join(reedspath,'inputs','shapefiles','transmission_endpoints'))\n",
    "    .set_index('ba_str'))\n",
    "endpoints['x'] = endpoints.centroid.x\n",
    "endpoints['y'] = endpoints.centroid.y\n",
    "# dfba['x'] = dfba.geometry.centroid.x\n",
    "# dfba['y'] = dfba.geometry.centroid.y\n",
    "dfba['x'] = dfba.index.map(endpoints.x)\n",
    "dfba['y'] = dfba.index.map(endpoints.y)\n",
    "dfba.st = dfba.st.str.upper()\n",
    "\n",
    "### Aggregate to states\n",
    "dfstates = dfba.dissolve('st')"
   ]
  },
  {
   "cell_type": "code",
   "execution_count": null,
   "metadata": {},
   "outputs": [],
   "source": [
    "year = 2036\n",
    "wscale = 0.0002\n",
    "rplots.plot_trans_diff(\n",
    "    casebase=casebase, casecomp=casecomp, runspath=runspath, pcalabel=False, wscale=wscale,\n",
    "    yearlabel=False, year=year,\n",
    ")"
   ]
  },
  {
   "cell_type": "code",
   "execution_count": null,
   "metadata": {},
   "outputs": [],
   "source": [
    "### Use straight lines\n",
    "alpha = 1\n",
    "year = 2036\n",
    "routes, wscale = False, 0.0004\n",
    "labelcolors = {'AC':'C2','DC':'C1','VSC':'C3'}\n",
    "plt.close()\n",
    "f,ax = rplots.plot_trans_onecase(\n",
    "    case=os.path.join(runspath,casecomp), pcalabel=False,\n",
    "    wscale=wscale, routes=routes,\n",
    "    yearlabel=False, year=year, alpha=alpha,\n",
    "    simpletypes=None,\n",
    "    dpi=200,\n",
    ")\n",
    "ax.annotate(\n",
    "    'AC', (-1.75e6, -1.12e6), ha='center', va='top', weight='bold', fontsize=15,\n",
    "    color=labelcolors['AC'])\n",
    "ax.annotate(\n",
    "    'LCC/B2B DC',\n",
    "    (-1.75e6, -1.24e6), ha='center', va='top', weight='bold', fontsize=15,\n",
    "    color=labelcolors['DC'])\n",
    "ax.annotate(\n",
    "    'VSC DC', (-1.75e6, -1.36e6), ha='center', va='top', weight='bold', fontsize=15,\n",
    "    color=labelcolors['VSC'])\n",
    "\n",
    "plt.show()"
   ]
  },
  {
   "cell_type": "code",
   "execution_count": null,
   "metadata": {},
   "outputs": [],
   "source": [
    "### Use modeled transmission routes\n",
    "routes, wscale, show_overlap = True, 1.5, False\n",
    "plt.close()\n",
    "f,ax = rplots.plot_trans_onecase(\n",
    "    case=os.path.join(runspath,casecomp), pcalabel=False,\n",
    "    wscale=wscale, routes=routes,\n",
    "    yearlabel=False, year=year, alpha=0.7,\n",
    "    show_overlap=show_overlap,\n",
    "    dpi=200\n",
    ")\n",
    "ax.annotate(\n",
    "    'AC', (-1.75e6, -1.12e6), ha='center', va='top', weight='bold', fontsize=15,\n",
    "    color=labelcolors['AC'])\n",
    "ax.annotate(\n",
    "    'LCC/B2B DC',\n",
    "    (-1.75e6, -1.24e6), ha='center', va='top', weight='bold', fontsize=15,\n",
    "    color=labelcolors['DC'])\n",
    "ax.annotate(\n",
    "    'VSC DC', (-1.75e6, -1.36e6), ha='center', va='top', weight='bold', fontsize=15,\n",
    "    color=labelcolors['VSC'])\n",
    "plt.show()"
   ]
  },
  {
   "cell_type": "code",
   "execution_count": null,
   "metadata": {},
   "outputs": [],
   "source": [
    "### Use modeled transmission routes; only show NEW transmission lines built by 2036\n",
    "routes, wscale, show_overlap = True, 2.0, False\n",
    "subtract_baseyear = 2020\n",
    "plt.close()\n",
    "f,ax = rplots.plot_trans_onecase(\n",
    "    case=os.path.join(runspath,casecomp), pcalabel=False,\n",
    "    wscale=wscale, routes=routes, subtract_baseyear=subtract_baseyear,\n",
    "    yearlabel=False, year=year, alpha=0.7,\n",
    "    show_overlap=show_overlap,\n",
    ")\n",
    "plt.show()"
   ]
  },
  {
   "cell_type": "markdown",
   "metadata": {},
   "source": [
    "## VSC lines and converters"
   ]
  },
  {
   "cell_type": "code",
   "execution_count": null,
   "metadata": {},
   "outputs": [],
   "source": [
    "year = 2036\n",
    "wscale = 0.0004\n",
    "alpha = 1.0\n",
    "miles = 300\n",
    "\n",
    "plt.close()\n",
    "f,ax = rplots.plot_trans_vsc(\n",
    "    case=os.path.join(runspath,casecomp),\n",
    "    year=year, wscale=wscale, alpha=alpha, miles=miles,\n",
    ")\n",
    "plt.show()"
   ]
  },
  {
   "cell_type": "markdown",
   "metadata": {},
   "source": [
    "# Generation capacity maps"
   ]
  },
  {
   "cell_type": "code",
   "execution_count": null,
   "metadata": {
    "scrolled": false
   },
   "outputs": [],
   "source": [
    "### Plot it\n",
    "val = 'cap'\n",
    "plot = 'absdiff'\n",
    "i_plots = ['wind-ons','upv']\n",
    "year = 2050\n",
    "\n",
    "\n",
    "for i_plot in i_plots:\n",
    "    plt.close()\n",
    "    f,ax=plt.subplots(\n",
    "        1,3,sharex=True,sharey=True,figsize=(14,8),\n",
    "        gridspec_kw={'wspace':-0.05, 'hspace':0.05},\n",
    "        dpi=150,\n",
    "    )\n",
    "\n",
    "    _,_,dfplot = rplots.plotdiffmaps(\n",
    "        val=val, i_plot=i_plot, year=year,\n",
    "        casebase=os.path.join(runspath,casebase), casecomp=os.path.join(runspath,casecomp),\n",
    "        reedspath=reedspath, plot='base', f=f, ax=ax[0], dfba=dfba, dfstates=dfstates,\n",
    "        cmap=plt.cm.gist_earth_r,\n",
    "    )\n",
    "    ax[0].annotate(\n",
    "        casebase, (0.1,1), xycoords='axes fraction', fontsize=10)\n",
    "\n",
    "    _,_,dfplot = rplots.plotdiffmaps(\n",
    "        val=val, i_plot=i_plot, year=year,\n",
    "        casebase=os.path.join(runspath,casebase), casecomp=os.path.join(runspath,casecomp),\n",
    "        reedspath=reedspath, plot='comp', f=f, ax=ax[1], dfba=dfba, dfstates=dfstates,\n",
    "        cmap=plt.cm.gist_earth_r,\n",
    "    )\n",
    "    ax[1].annotate(\n",
    "        casecomp, (0.1,1), xycoords='axes fraction', fontsize=10)\n",
    "\n",
    "    _,_,dfplot = rplots.plotdiffmaps(\n",
    "        val=val, i_plot=i_plot, year=year,\n",
    "        casebase=os.path.join(runspath,casebase), casecomp=os.path.join(runspath,casecomp),\n",
    "        reedspath=reedspath, plot='absdiff', f=f, ax=ax[2], dfba=dfba, dfstates=dfstates,\n",
    "        cmap=plt.cm.bwr,\n",
    "    )\n",
    "    print(dfplot.CAP_diff.min(), dfplot.CAP_diff.max())\n",
    "    ax[2].annotate(\n",
    "        '{}\\n– {}'.format(casecomp,casebase), \n",
    "        (0.1,1), xycoords='axes fraction', fontsize=10)\n",
    "\n",
    "    plt.show()"
   ]
  },
  {
   "cell_type": "code",
   "execution_count": null,
   "metadata": {
    "scrolled": false
   },
   "outputs": [],
   "source": [
    "### Plot it\n",
    "val = 'cap'\n",
    "plot = 'absdiff'\n",
    "i_plots = ['upv','dupv','wind-ons','wind-ofs','battery','nuclear']\n",
    "cmap = {'upv':plt.cm.Oranges, 'dupv':plt.cm.Reds, 'wind-ons':plt.cm.Blues, \n",
    "        'wind-ofs':plt.cm.Purples, 'battery':plt.cm.Greens, 'nuclear':plt.cm.Greys}\n",
    "year = 2050\n",
    "\n",
    "for i_plot in i_plots:\n",
    "    legend_kwds = {'shrink':0.6, 'pad':0, 'orientation':'vertical', \n",
    "                   'label':'{} {} {} [GW]'.format(val.upper(), i_plot, year)}\n",
    "    plt.close()\n",
    "    f,ax=plt.subplots(figsize=(14,8))\n",
    "\n",
    "    _,_,dfplot = rplots.plotdiffmaps(\n",
    "        val=val, i_plot=i_plot, year=year,\n",
    "        casebase=os.path.join(runspath,casebase), casecomp=os.path.join(runspath,casecomp),\n",
    "        reedspath=reedspath, plot='comp', f=f, ax=ax, dfba=dfba, dfstates=dfstates,\n",
    "        cmap=cmap[i_plot], legend_kwds=legend_kwds,\n",
    "    )\n",
    "    ax.set_title(casecomp, y=0.98)\n",
    "\n",
    "    plt.show()"
   ]
  },
  {
   "cell_type": "markdown",
   "metadata": {},
   "source": [
    "# Process timer"
   ]
  },
  {
   "cell_type": "code",
   "execution_count": null,
   "metadata": {},
   "outputs": [],
   "source": [
    "timecolors = pd.read_csv(\n",
    "    os.path.join(reedspath,'postprocessing','bokehpivot','in','reeds2','process_style.csv'),\n",
    "    index_col='order', squeeze=True,\n",
    ")"
   ]
  },
  {
   "cell_type": "code",
   "execution_count": null,
   "metadata": {},
   "outputs": [],
   "source": [
    "metabase = pd.read_csv(os.path.join(runspath,casebase,'meta.csv'), skiprows=3)\n",
    "\n",
    "### Subtract time for input_processing script from createmodel.gms\n",
    "metabase.loc[\n",
    "    metabase.loc[metabase.process=='createmodel.gms'].index[0],\n",
    "    'processtime'\n",
    "] -= (\n",
    "    metabase.loc[metabase.process.map(lambda x: x.startswith('input_processing')),'processtime'].sum()\n",
    "    - metabase.loc[metabase.process=='input_processing/calc_financial_inputs.py','processtime'].sum()\n",
    ")\n",
    "\n",
    "metabase.loc[\n",
    "    metabase.loc[metabase.process=='createmodel.gms'].index[0],\n",
    "    'process'\n",
    "] = 'createmodel.gms – input_processing/*.py'\n",
    "\n",
    "dfbase = (metabase.groupby('process', sort=False)['processtime'].sum() / 3600).drop('end')\n",
    "\n",
    "###### Stacked bars\n",
    "plt.close()\n",
    "f,ax = plt.subplots(figsize=(12,1))\n",
    "dfbase.rename(casebase).to_frame().T.plot.barh(\n",
    "    ax=ax, stacked=True,\n",
    "    color=[timecolors.get([c.lower()],'k') for c in dfbase.index]\n",
    ")\n",
    "ax.set_xlabel('Run time [hours]')\n",
    "ax.legend(loc='upper center', bbox_to_anchor=(0.5,-0.7), ncol=3,fontsize=10)\n",
    "ax.set_xlim(0)\n",
    "ax.set_yticklabels([])\n",
    "ax.set_title(casebase)\n",
    "plots.despine(ax)\n",
    "plt.show()\n",
    "\n",
    "###### Bars\n",
    "df = dfbase.rename(casebase).to_frame().iloc[::-1]\n",
    "colors = {}\n",
    "for c in df.index.values:\n",
    "    if c.startswith('input_processing'):\n",
    "        colors[c] = 'C0'\n",
    "    elif 'reeds_augur' in c.lower():\n",
    "        colors[c] = 'C1'\n",
    "    elif 'pickle' in c:\n",
    "        colors[c] = 'C4'\n",
    "    elif c.startswith('e_') or ('retail' in c):\n",
    "          colors[c] = 'C2'\n",
    "    else:\n",
    "        colors[c] = 'C3'\n",
    "plt.close()\n",
    "f,ax = plt.subplots(figsize=(8,7))\n",
    "ax.barh(\n",
    "    df.index.values,\n",
    "    df[casebase].values,\n",
    "    color=[colors[c] for c in df.index]\n",
    ")\n",
    "ax.set_xlabel('Run time [hours]')\n",
    "ax.set_xlim(0)\n",
    "ax.set_ylim(-0.5)\n",
    "plots.despine(ax)\n",
    "plt.show()"
   ]
  },
  {
   "cell_type": "code",
   "execution_count": null,
   "metadata": {},
   "outputs": [],
   "source": [
    "###### Compare\n",
    "cases = {'base':casebase, 'comp':casecomp}\n",
    "meta = {}\n",
    "for case in cases:\n",
    "    df = pd.read_csv(os.path.join(runspath,cases[case],'meta.csv'), skiprows=3)\n",
    "\n",
    "    ### Subtract time for input_processing script from createmodel.gms\n",
    "    df.loc[\n",
    "        df.loc[df.process=='createmodel.gms'].index[0],\n",
    "        'processtime'\n",
    "    ] -= (\n",
    "        df.loc[df.process.map(lambda x: x.startswith('input_processing')),'processtime'].sum()\n",
    "        - df.loc[df.process=='input_processing/calc_financial_inputs.py','processtime'].sum()\n",
    "    )\n",
    "\n",
    "    df.loc[\n",
    "        df.loc[df.process=='createmodel.gms'].index[0],\n",
    "        'process'\n",
    "    ] = 'createmodel.gms – input_processing/*.py'\n",
    "\n",
    "    meta[cases[case]] = df.groupby('process', sort=False)['processtime'].sum() / 3600\n",
    "\n",
    "dfmeta = pd.concat(meta, axis=1).drop('end')\n",
    "\n",
    "### Metrics\n",
    "print('Hours:')\n",
    "print(dfmeta.sum())\n",
    "print()\n",
    "print('Ratio: {:.2f}'.format(dfmeta[casecomp].sum() / dfmeta[casebase].sum()))\n",
    "print('Difference: {:+.2f} hours'.format(dfmeta[casecomp].sum() - dfmeta[casebase].sum()))\n",
    "\n",
    "###### Stacked\n",
    "plt.close()\n",
    "f,ax = plt.subplots(figsize=(8,2))\n",
    "dfmeta.T.plot.barh(\n",
    "    ax=ax, stacked=True,\n",
    "    color=[timecolors.get([c.lower()],'k') for c in dfbase.index]\n",
    ")\n",
    "ax.set_xlabel('Run time [hours]')\n",
    "ax.legend(loc='upper center', bbox_to_anchor=(0.5,-0.4), ncol=2)\n",
    "ax.set_xlim(0)\n",
    "plots.despine(ax)\n",
    "plt.show()\n",
    "\n",
    "###### Unstacked\n",
    "dfplot = dfmeta.iloc[::-1]\n",
    "colors = {}\n",
    "for c in dfplot.index.values:\n",
    "    if c.startswith('input_processing'):\n",
    "        colors[c] = 'C0'\n",
    "    elif 'reeds_augur' in c.lower():\n",
    "        colors[c] = 'C1'\n",
    "    elif 'pickle' in c:\n",
    "        colors[c] = 'C4'\n",
    "    elif c.startswith('e_') or ('retail' in c):\n",
    "        colors[c] = 'C2'\n",
    "    else:\n",
    "        colors[c] = 'C3'\n",
    "plt.close()\n",
    "f,ax = plt.subplots(figsize=(7,8))\n",
    "### Base\n",
    "ax.barh(\n",
    "    np.arange(len(dfplot))+0.2,\n",
    "    dfplot[casebase].values,\n",
    "    color=[colors[c] for c in dfplot.index],\n",
    "    height=0.4,\n",
    "    alpha=1, label=casebase,\n",
    ")\n",
    "### Comp\n",
    "ax.barh(\n",
    "    np.arange(len(dfplot))-0.2,\n",
    "    dfplot[casecomp].values,\n",
    "    color=[colors[c] for c in dfplot.index],\n",
    "    height=0.4,\n",
    "    alpha=0.5, label=casecomp,\n",
    ")\n",
    "### Formatting\n",
    "ax.set_xlabel('Run time [hours]')\n",
    "ax.set_yticks(np.arange(len(dfplot)))\n",
    "ax.set_yticklabels(dfplot.index.values)\n",
    "ax.legend()\n",
    "# ax.set_xlim(0,4)\n",
    "ax.set_ylim(-0.5)\n",
    "plots.despine(ax)\n",
    "plt.show()"
   ]
  },
  {
   "cell_type": "markdown",
   "metadata": {},
   "source": [
    "# Plot individual site capacity using ReEDS-to-reV"
   ]
  },
  {
   "cell_type": "code",
   "execution_count": null,
   "metadata": {},
   "outputs": [],
   "source": [
    "year = 2036\n",
    "case = os.path.join(runspath,casecomp)\n",
    "routes, wscale, show_overlap = True, 1.5, False\n",
    "subtract_baseyear = None\n",
    "alpha = 0.25 ### For transmission\n",
    "colors = 'k' ### For transmission\n",
    "ms = 1.15\n",
    "### Example using a different CRS\n",
    "# crs = (\n",
    "#     '+proj=aea +lat_0=37.5 +lon_0=-96 +lat_1=29.5 +lat_2=45.5 '\n",
    "#     '+x_0=0 +y_0=0 +ellps=GRS80 +towgs84=0,0,0,0,0,0,0 +units=m +no_defs'\n",
    "# )\n",
    "### reV CRS\n",
    "crs = 'ESRI:102008'\n",
    "\n",
    "plt.close()\n",
    "f,ax = rplots.plot_vresites_transmission(\n",
    "    case, year, crs=crs,\n",
    "    routes=routes, wscale=wscale, show_overlap=show_overlap,\n",
    "    subtract_baseyear=subtract_baseyear,\n",
    "    alpha=alpha, colors=colors, ms=ms,\n",
    ")\n",
    "plt.show()"
   ]
  },
  {
   "cell_type": "code",
   "execution_count": null,
   "metadata": {},
   "outputs": [],
   "source": []
  }
 ],
 "metadata": {
  "interpreter": {
   "hash": "c093e5ab575f4d018868fcd62a1f45058cff320e5e6da48b0062fac4cd174c18"
  },
  "kernelspec": {
   "display_name": "Python 3",
   "language": "python",
   "name": "python3"
  },
  "language_info": {
   "codemirror_mode": {
    "name": "ipython",
    "version": 3
   },
   "file_extension": ".py",
   "mimetype": "text/x-python",
   "name": "python",
   "nbconvert_exporter": "python",
   "pygments_lexer": "ipython3",
   "version": "3.7.8"
  }
 },
 "nbformat": 4,
 "nbformat_minor": 4
}